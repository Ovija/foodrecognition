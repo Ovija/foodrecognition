{
 "cells": [
  {
   "cell_type": "code",
   "execution_count": 1,
   "id": "5e01ca7e",
   "metadata": {
    "execution": {
     "iopub.execute_input": "2024-10-20T21:07:35.407882Z",
     "iopub.status.busy": "2024-10-20T21:07:35.407543Z",
     "iopub.status.idle": "2024-10-20T21:07:49.130175Z",
     "shell.execute_reply": "2024-10-20T21:07:49.129224Z"
    },
    "papermill": {
     "duration": 13.728422,
     "end_time": "2024-10-20T21:07:49.132521",
     "exception": false,
     "start_time": "2024-10-20T21:07:35.404099",
     "status": "completed"
    },
    "tags": []
   },
   "outputs": [
    {
     "name": "stdout",
     "output_type": "stream",
     "text": [
      "Collecting ultralytics\r\n",
      "  Downloading ultralytics-8.3.18-py3-none-any.whl.metadata (34 kB)\r\n",
      "Requirement already satisfied: numpy>=1.23.0 in /opt/conda/lib/python3.10/site-packages (from ultralytics) (1.26.4)\r\n",
      "Requirement already satisfied: matplotlib>=3.3.0 in /opt/conda/lib/python3.10/site-packages (from ultralytics) (3.7.5)\r\n",
      "Requirement already satisfied: opencv-python>=4.6.0 in /opt/conda/lib/python3.10/site-packages (from ultralytics) (4.10.0.84)\r\n",
      "Requirement already satisfied: pillow>=7.1.2 in /opt/conda/lib/python3.10/site-packages (from ultralytics) (10.3.0)\r\n",
      "Requirement already satisfied: pyyaml>=5.3.1 in /opt/conda/lib/python3.10/site-packages (from ultralytics) (6.0.2)\r\n",
      "Requirement already satisfied: requests>=2.23.0 in /opt/conda/lib/python3.10/site-packages (from ultralytics) (2.32.3)\r\n",
      "Requirement already satisfied: scipy>=1.4.1 in /opt/conda/lib/python3.10/site-packages (from ultralytics) (1.14.1)\r\n",
      "Requirement already satisfied: torch>=1.8.0 in /opt/conda/lib/python3.10/site-packages (from ultralytics) (2.4.0)\r\n",
      "Requirement already satisfied: torchvision>=0.9.0 in /opt/conda/lib/python3.10/site-packages (from ultralytics) (0.19.0)\r\n",
      "Requirement already satisfied: tqdm>=4.64.0 in /opt/conda/lib/python3.10/site-packages (from ultralytics) (4.66.4)\r\n",
      "Requirement already satisfied: psutil in /opt/conda/lib/python3.10/site-packages (from ultralytics) (5.9.3)\r\n",
      "Requirement already satisfied: py-cpuinfo in /opt/conda/lib/python3.10/site-packages (from ultralytics) (9.0.0)\r\n",
      "Requirement already satisfied: pandas>=1.1.4 in /opt/conda/lib/python3.10/site-packages (from ultralytics) (2.2.2)\r\n",
      "Requirement already satisfied: seaborn>=0.11.0 in /opt/conda/lib/python3.10/site-packages (from ultralytics) (0.12.2)\r\n",
      "Collecting ultralytics-thop>=2.0.0 (from ultralytics)\r\n",
      "  Downloading ultralytics_thop-2.0.9-py3-none-any.whl.metadata (9.3 kB)\r\n",
      "Requirement already satisfied: contourpy>=1.0.1 in /opt/conda/lib/python3.10/site-packages (from matplotlib>=3.3.0->ultralytics) (1.2.1)\r\n",
      "Requirement already satisfied: cycler>=0.10 in /opt/conda/lib/python3.10/site-packages (from matplotlib>=3.3.0->ultralytics) (0.12.1)\r\n",
      "Requirement already satisfied: fonttools>=4.22.0 in /opt/conda/lib/python3.10/site-packages (from matplotlib>=3.3.0->ultralytics) (4.53.0)\r\n",
      "Requirement already satisfied: kiwisolver>=1.0.1 in /opt/conda/lib/python3.10/site-packages (from matplotlib>=3.3.0->ultralytics) (1.4.5)\r\n",
      "Requirement already satisfied: packaging>=20.0 in /opt/conda/lib/python3.10/site-packages (from matplotlib>=3.3.0->ultralytics) (21.3)\r\n",
      "Requirement already satisfied: pyparsing>=2.3.1 in /opt/conda/lib/python3.10/site-packages (from matplotlib>=3.3.0->ultralytics) (3.1.2)\r\n",
      "Requirement already satisfied: python-dateutil>=2.7 in /opt/conda/lib/python3.10/site-packages (from matplotlib>=3.3.0->ultralytics) (2.9.0.post0)\r\n",
      "Requirement already satisfied: pytz>=2020.1 in /opt/conda/lib/python3.10/site-packages (from pandas>=1.1.4->ultralytics) (2024.1)\r\n",
      "Requirement already satisfied: tzdata>=2022.7 in /opt/conda/lib/python3.10/site-packages (from pandas>=1.1.4->ultralytics) (2024.1)\r\n",
      "Requirement already satisfied: charset-normalizer<4,>=2 in /opt/conda/lib/python3.10/site-packages (from requests>=2.23.0->ultralytics) (3.3.2)\r\n",
      "Requirement already satisfied: idna<4,>=2.5 in /opt/conda/lib/python3.10/site-packages (from requests>=2.23.0->ultralytics) (3.7)\r\n",
      "Requirement already satisfied: urllib3<3,>=1.21.1 in /opt/conda/lib/python3.10/site-packages (from requests>=2.23.0->ultralytics) (1.26.18)\r\n",
      "Requirement already satisfied: certifi>=2017.4.17 in /opt/conda/lib/python3.10/site-packages (from requests>=2.23.0->ultralytics) (2024.8.30)\r\n",
      "Requirement already satisfied: filelock in /opt/conda/lib/python3.10/site-packages (from torch>=1.8.0->ultralytics) (3.15.1)\r\n",
      "Requirement already satisfied: typing-extensions>=4.8.0 in /opt/conda/lib/python3.10/site-packages (from torch>=1.8.0->ultralytics) (4.12.2)\r\n",
      "Requirement already satisfied: sympy in /opt/conda/lib/python3.10/site-packages (from torch>=1.8.0->ultralytics) (1.13.3)\r\n",
      "Requirement already satisfied: networkx in /opt/conda/lib/python3.10/site-packages (from torch>=1.8.0->ultralytics) (3.3)\r\n",
      "Requirement already satisfied: jinja2 in /opt/conda/lib/python3.10/site-packages (from torch>=1.8.0->ultralytics) (3.1.4)\r\n",
      "Requirement already satisfied: fsspec in /opt/conda/lib/python3.10/site-packages (from torch>=1.8.0->ultralytics) (2024.6.1)\r\n",
      "Requirement already satisfied: six>=1.5 in /opt/conda/lib/python3.10/site-packages (from python-dateutil>=2.7->matplotlib>=3.3.0->ultralytics) (1.16.0)\r\n",
      "Requirement already satisfied: MarkupSafe>=2.0 in /opt/conda/lib/python3.10/site-packages (from jinja2->torch>=1.8.0->ultralytics) (2.1.5)\r\n",
      "Requirement already satisfied: mpmath<1.4,>=1.1.0 in /opt/conda/lib/python3.10/site-packages (from sympy->torch>=1.8.0->ultralytics) (1.3.0)\r\n",
      "Downloading ultralytics-8.3.18-py3-none-any.whl (876 kB)\r\n",
      "\u001b[2K   \u001b[90m━━━━━━━━━━━━━━━━━━━━━━━━━━━━━━━━━━━━━━━━\u001b[0m \u001b[32m876.6/876.6 kB\u001b[0m \u001b[31m29.2 MB/s\u001b[0m eta \u001b[36m0:00:00\u001b[0m\r\n",
      "\u001b[?25hDownloading ultralytics_thop-2.0.9-py3-none-any.whl (26 kB)\r\n",
      "Installing collected packages: ultralytics-thop, ultralytics\r\n",
      "Successfully installed ultralytics-8.3.18 ultralytics-thop-2.0.9\r\n"
     ]
    }
   ],
   "source": [
    "!pip install ultralytics"
   ]
  },
  {
   "cell_type": "code",
   "execution_count": 2,
   "id": "7030c769",
   "metadata": {
    "execution": {
     "iopub.execute_input": "2024-10-20T21:07:49.140300Z",
     "iopub.status.busy": "2024-10-20T21:07:49.139985Z",
     "iopub.status.idle": "2024-10-20T21:07:55.600521Z",
     "shell.execute_reply": "2024-10-20T21:07:55.599597Z"
    },
    "papermill": {
     "duration": 6.46697,
     "end_time": "2024-10-20T21:07:55.602888",
     "exception": false,
     "start_time": "2024-10-20T21:07:49.135918",
     "status": "completed"
    },
    "tags": []
   },
   "outputs": [
    {
     "name": "stdout",
     "output_type": "stream",
     "text": [
      "Creating new Ultralytics Settings v0.0.6 file ✅ \n",
      "View Ultralytics Settings with 'yolo settings' or at '/root/.config/Ultralytics/settings.json'\n",
      "Update Settings with 'yolo settings key=value', i.e. 'yolo settings runs_dir=path/to/dir'. For help see https://docs.ultralytics.com/quickstart/#ultralytics-settings.\n"
     ]
    },
    {
     "name": "stderr",
     "output_type": "stream",
     "text": [
      "/opt/conda/lib/python3.10/site-packages/albumentations/__init__.py:13: UserWarning: A new version of Albumentations is available: 1.4.18 (you have 1.4.17). Upgrade using: pip install -U albumentations. To disable automatic update checks, set the environment variable NO_ALBUMENTATIONS_UPDATE to 1.\n",
      "  check_for_updates()\n"
     ]
    }
   ],
   "source": [
    "import numpy as np\n",
    "import matplotlib.pyplot as plt\n",
    "from torch.utils.data import Dataset\n",
    "import torch\n",
    "import albumentations as A\n",
    "import json\n",
    "from ultralytics import YOLO\n",
    "import torch\n",
    "import os\n",
    "import wandb"
   ]
  },
  {
   "cell_type": "code",
   "execution_count": 3,
   "id": "3fd44421",
   "metadata": {
    "execution": {
     "iopub.execute_input": "2024-10-20T21:07:55.610666Z",
     "iopub.status.busy": "2024-10-20T21:07:55.610328Z",
     "iopub.status.idle": "2024-10-20T21:09:15.492558Z",
     "shell.execute_reply": "2024-10-20T21:09:15.491659Z"
    },
    "papermill": {
     "duration": 79.888534,
     "end_time": "2024-10-20T21:09:15.494759",
     "exception": false,
     "start_time": "2024-10-20T21:07:55.606225",
     "status": "completed"
    },
    "tags": []
   },
   "outputs": [
    {
     "name": "stdout",
     "output_type": "stream",
     "text": [
      "Ultralytics 8.3.18 🚀 Python-3.10.14 torch-2.4.0 CUDA:0 (Tesla P100-PCIE-16GB, 16269MiB)\n",
      "YOLOv8m-seg summary (fused): 245 layers, 27,282,600 parameters, 0 gradients, 110.3 GFLOPs\n",
      "Downloading https://ultralytics.com/assets/Arial.ttf to '/root/.config/Ultralytics/Arial.ttf'...\n"
     ]
    },
    {
     "name": "stderr",
     "output_type": "stream",
     "text": [
      "100%|██████████| 755k/755k [00:00<00:00, 40.8MB/s]\n",
      "\u001b[34m\u001b[1mval: \u001b[0mScanning /kaggle/input/foodseg103-yolov9m-seg/yolo/labels/test... 2135 images, 0 backgrounds, 0 corrupt: 100%|██████████| 2135/2135 [00:20<00:00, 102.24it/s]\n"
     ]
    },
    {
     "name": "stdout",
     "output_type": "stream",
     "text": [
      "\u001b[34m\u001b[1mval: \u001b[0mWARNING ⚠️ Cache directory /kaggle/input/foodseg103-yolov9m-seg/yolo/labels is not writeable, cache not saved.\n"
     ]
    },
    {
     "name": "stderr",
     "output_type": "stream",
     "text": [
      "                 Class     Images  Instances      Box(P          R      mAP50  mAP50-95)     Mask(P          R      mAP50  mAP50-95): 100%|██████████| 134/134 [00:38<00:00,  3.52it/s]\n"
     ]
    },
    {
     "name": "stdout",
     "output_type": "stream",
     "text": [
      "                   all       2135       7697      0.471      0.341      0.329      0.273      0.458      0.328      0.308      0.233\n",
      "                 candy         11         11          0          0     0.0391     0.0242          0          0     0.0116     0.0103\n",
      "              egg tart          1          1          1          0          0          0          1          0          0          0\n",
      "          french fries         78         78      0.636      0.582      0.572      0.486      0.593      0.542      0.505      0.345\n",
      "             chocolate         18         18      0.278      0.222      0.195      0.156      0.282      0.222      0.189      0.162\n",
      "               biscuit         77         77      0.439      0.364      0.395      0.375      0.456      0.377      0.388      0.313\n",
      "               popcorn          4          4      0.463        0.5      0.581      0.548      0.467        0.5      0.581      0.514\n",
      "               pudding          1          1          0          0     0.0114     0.0103          0          0     0.0114     0.0114\n",
      "             ice cream        277        277      0.587      0.495      0.522       0.42      0.575      0.484      0.495      0.377\n",
      "         cheese butter        120        120      0.172     0.0833     0.0863     0.0542      0.138     0.0667     0.0761     0.0433\n",
      "                  cake        126        126       0.47      0.405      0.361      0.299      0.427      0.365      0.292      0.231\n",
      "                  wine         41         41      0.539      0.634      0.523      0.428      0.561      0.659      0.534      0.372\n",
      "             milkshake         27         27      0.487      0.556      0.454      0.403      0.488      0.556      0.437      0.405\n",
      "                coffee         57         57      0.714      0.789      0.748      0.676      0.713      0.786      0.748      0.643\n",
      "                 juice         54         54      0.485      0.648      0.465      0.366      0.461      0.611      0.441      0.311\n",
      "                  milk         28         28      0.608      0.444      0.524      0.443      0.607      0.442      0.517      0.418\n",
      "                   tea          6          6          0          0     0.0332     0.0296          0          0     0.0332     0.0195\n",
      "                almond         24         24      0.299      0.208       0.16     0.0895      0.299      0.208      0.145     0.0858\n",
      "             red beans         14         14      0.318      0.214      0.168      0.137      0.319      0.214      0.168     0.0673\n",
      "                cashew         10         10          0          0     0.0135    0.00524          0          0     0.0135    0.00497\n",
      "     dried cranberries         12         12      0.165      0.167     0.0629     0.0591      0.165      0.167     0.0629     0.0535\n",
      "                   soy         14         14      0.751       0.43       0.67      0.609      0.749      0.427       0.67      0.531\n",
      "                walnut         22         22       0.46      0.409      0.312      0.289      0.462      0.409      0.311      0.266\n",
      "                peanut          2          2          1          0     0.0311     0.0311          1          0     0.0311     0.0218\n",
      "                   egg         69         69      0.482      0.362        0.4       0.32      0.463      0.348      0.385      0.279\n",
      "                 apple         52         52      0.476      0.269      0.262      0.209      0.416      0.231      0.223      0.155\n",
      "                  date          2          2          1          0          0          0          1          0          0          0\n",
      "               apricot          8          8          0          0     0.0405     0.0259          0          0     0.0405     0.0236\n",
      "               avocado         24         24      0.396      0.125      0.147      0.132      0.399      0.125       0.15      0.122\n",
      "                banana         56         56      0.577      0.536       0.49      0.445      0.597      0.554      0.473      0.313\n",
      "            strawberry        172        172      0.623      0.738      0.727       0.62      0.594      0.703      0.672      0.522\n",
      "                cherry         53         53      0.505      0.358      0.316      0.272      0.545      0.377      0.349      0.248\n",
      "             blueberry         58         58      0.416      0.626       0.54      0.449      0.437      0.657      0.575      0.391\n",
      "             raspberry         22         22        0.4      0.455      0.297      0.203      0.404      0.455      0.297      0.213\n",
      "                 mango         12         12      0.113      0.167     0.0505     0.0447      0.113      0.167     0.0505      0.039\n",
      "                olives         15         15      0.353        0.2       0.24      0.192      0.354        0.2      0.233      0.187\n",
      "                 peach         18         18      0.329      0.389      0.314      0.225       0.33      0.389      0.314      0.229\n",
      "                 lemon        172        172      0.584      0.717      0.668      0.573      0.574      0.705      0.651      0.522\n",
      "                  pear         14         14      0.629      0.214       0.23      0.141      0.632      0.214      0.246      0.201\n",
      "                   fig          5          5          0          0     0.0756     0.0367          0          0     0.0602     0.0349\n",
      "             pineapple         36         36      0.379      0.238      0.264        0.2      0.376      0.234      0.287      0.208\n",
      "                 grape         35         35       0.59      0.686      0.688      0.637      0.593      0.686      0.688      0.585\n",
      "                  kiwi         13         13      0.646      0.692      0.681      0.563      0.647      0.692      0.681      0.525\n",
      "                 melon          4          4      0.183       0.25     0.0555     0.0401      0.185       0.25     0.0555    0.00785\n",
      "                orange         70         70      0.387      0.457      0.394      0.345      0.388      0.457      0.388      0.301\n",
      "            watermelon          8          8      0.282      0.106      0.105     0.0955      0.636      0.227      0.315      0.115\n",
      "                 steak        337        337      0.478      0.596      0.518      0.421      0.447      0.558      0.466      0.337\n",
      "                  pork        195        195      0.244      0.274      0.173      0.145      0.229      0.256      0.153       0.12\n",
      "          chicken duck        394        394      0.444      0.454      0.426       0.35      0.428      0.437      0.389       0.29\n",
      "               sausage         53         53      0.266      0.232      0.167      0.155      0.264       0.23      0.168       0.14\n",
      "            fried meat         84         84      0.284      0.107      0.144      0.111      0.222     0.0833      0.111     0.0746\n",
      "                  lamb         28         28       0.17      0.321      0.178      0.102      0.115      0.214      0.098     0.0633\n",
      "                 sauce        327        327      0.529      0.498      0.472      0.413      0.527      0.495      0.463      0.385\n",
      "                  crab          6          6      0.394      0.333      0.278      0.273      0.399      0.333      0.278       0.25\n",
      "                  fish         95         95      0.341      0.316      0.315      0.257      0.327      0.295      0.267      0.199\n",
      "             shellfish         13         13      0.386      0.538      0.472      0.345      0.331      0.462      0.378      0.282\n",
      "                shrimp         45         45      0.416      0.285       0.29      0.177      0.345      0.234      0.212      0.142\n",
      "                  soup         22         22      0.457      0.591      0.506      0.358      0.393        0.5       0.32      0.293\n",
      "                 bread        414        414      0.469      0.524      0.456      0.381       0.42      0.465      0.389      0.292\n",
      "                  corn        145        145      0.877      0.882      0.906      0.832      0.829      0.833      0.836      0.706\n",
      "               hamburg          1          1          1          0     0.0076    0.00152          1          0          0          0\n",
      "                 pizza         13         13      0.244      0.308      0.112     0.0931      0.247      0.308      0.102     0.0477\n",
      "        hanamaki baozi          9          9      0.245      0.184       0.16     0.0821      0.243      0.182       0.16      0.115\n",
      "      wonton dumplings         10         10      0.513      0.108      0.301      0.167     0.0166    0.00499      0.111      0.109\n",
      "                 pasta         48         48       0.66      0.405      0.543      0.504      0.659      0.403      0.518      0.462\n",
      "               noodles         75         75      0.646       0.64      0.599      0.443      0.501      0.493      0.431       0.31\n",
      "                  rice        206        206      0.664      0.711      0.743      0.646      0.655        0.7      0.716      0.541\n",
      "                   pie        161        161      0.385      0.435      0.381      0.318      0.349      0.391      0.318      0.249\n",
      "                  tofu         20         20      0.826       0.35      0.365      0.225      0.712        0.3      0.298      0.146\n",
      "              eggplant          7          7          0          0     0.0023     0.0023          0          0     0.0023     0.0019\n",
      "                potato        306        306      0.554      0.613      0.606      0.531      0.542      0.595      0.576      0.451\n",
      "                garlic         20         20       0.35        0.4      0.349      0.311      0.352        0.4      0.349      0.304\n",
      "           cauliflower         70         70      0.581      0.543       0.53      0.402      0.539        0.5      0.472      0.359\n",
      "                tomato        349        349      0.634      0.655      0.651      0.561      0.637      0.654      0.645      0.496\n",
      "                  kelp          2          2          1          0          0          0          1          0          0          0\n",
      "               seaweed          5          5          0          0     0.0101    0.00303          0          0          0          0\n",
      "          spring onion         57         57      0.373      0.193      0.203      0.147      0.342      0.175      0.177      0.103\n",
      "                  rape         21         21      0.347      0.238      0.273      0.237      0.349      0.238      0.273      0.211\n",
      "                ginger          8          8      0.356       0.25      0.319      0.317      0.358       0.25      0.319      0.289\n",
      "                  okra          2          2          0          0     0.0118    0.00354          0          0          0          0\n",
      "               lettuce        171        171      0.494      0.486      0.407      0.287      0.441      0.427      0.345      0.197\n",
      "               pumpkin         16         16      0.209      0.438      0.299      0.269      0.209      0.438      0.281      0.211\n",
      "              cucumber        164        164      0.589      0.543      0.514      0.422      0.588       0.54       0.52      0.369\n",
      "          white radish         16         16      0.469      0.125      0.174      0.131      0.474      0.125      0.175      0.148\n",
      "                carrot        398        398      0.834      0.744      0.824      0.749      0.808      0.719      0.781      0.606\n",
      "             asparagus         77         77      0.489      0.597      0.624      0.523      0.428      0.519      0.481      0.363\n",
      "         bamboo shoots          3          3          1          0          0          0          1          0          0          0\n",
      "              broccoli        309        309      0.851      0.848      0.894      0.809      0.842      0.838      0.857      0.671\n",
      "          celery stick         65         65      0.557      0.754       0.64      0.567      0.555      0.749       0.64      0.488\n",
      "         cilantro mint        264        264      0.543      0.636      0.577      0.476      0.542      0.631      0.561      0.394\n",
      "             snow peas         24         24      0.214     0.0915      0.159       0.13      0.108     0.0459      0.134      0.104\n",
      "               cabbage         33         33      0.429      0.394      0.386      0.328      0.398      0.364      0.373      0.315\n",
      "          bean sprouts         13         13      0.479      0.231      0.472      0.312      0.643      0.308      0.445      0.267\n",
      "                 onion        158        158      0.437      0.253      0.264      0.168      0.374      0.215      0.213      0.128\n",
      "                pepper        131        131      0.343      0.206      0.209      0.155      0.345      0.206      0.202      0.124\n",
      "           green beans         63         63      0.795      0.683      0.731      0.668      0.794      0.667      0.709      0.556\n",
      "          French beans        121        121      0.727      0.725      0.739      0.677      0.693       0.69      0.688      0.495\n",
      "  king oyster mushroom          3          3          1          0     0.0372     0.0111          1          0     0.0123    0.00614\n",
      "              shiitake         54         54      0.329      0.191      0.188      0.143      0.305      0.167      0.187      0.121\n",
      "        enoki mushroom          3          3          1          0          0          0          1          0          0          0\n",
      "       oyster mushroom          2          2          1          0          0          0          1          0          0          0\n",
      " white button mushroom         37         37      0.322      0.378      0.277      0.197      0.325      0.378      0.266      0.184\n",
      "                 salad         10         10          1          0    0.00872    0.00529          1          0    0.00872    0.00581\n",
      "     other ingredients         72         72     0.0902     0.0556     0.0429     0.0326     0.0908     0.0556     0.0417     0.0345\n",
      "Speed: 0.2ms preprocess, 10.6ms inference, 0.0ms loss, 0.9ms postprocess per image\n",
      "Results saved to \u001b[1mruns/segment/val\u001b[0m\n",
      "Metrics and outputs saved in '/kaggle/working/'\n"
     ]
    }
   ],
   "source": [
    "\n",
    "# Load the trained model\n",
    "model = YOLO('/kaggle/input/foodseg103-yolov8m-seg-output/runs/segment/train/weights/best.pt')\n",
    "\n",
    "# Evaluate the model on the test set and save the predictions in a custom folder\n",
    "metrics = model.val(data='/kaggle/input/foodseg103-yolo-yaml/dataset_.yaml', split='test', save=True)\n",
    "\n",
    "# Manually extract relevant metrics (precision, recall, mAP, etc.)\n",
    "metrics_dict = {\n",
    "    'box precision': metrics.box.mp,   \n",
    "    'box recall': metrics.box.mr,   \n",
    "    'box mAP50': metrics.box.map50, \n",
    "    'box mAP50-95': metrics.box.map,\n",
    "    'mask precision': metrics.seg.mp,  \n",
    "    'mask recall': metrics.seg.mr,   \n",
    "    'mask mAP50': metrics.seg.map50,  \n",
    "    'mask mAP50-95': metrics.seg.map,   \n",
    "    \n",
    "}\n",
    "\n",
    "# Save the metrics to a JSON file\n",
    "with open('/kaggle/working/test_metrics.json', 'w') as f:\n",
    "    json.dump(metrics_dict, f)\n",
    "\n",
    "print(\"Metrics and outputs saved in '/kaggle/working/'\")\n"
   ]
  }
 ],
 "metadata": {
  "kaggle": {
   "accelerator": "gpu",
   "dataSources": [
    {
     "datasetId": 5909510,
     "sourceId": 9677862,
     "sourceType": "datasetVersion"
    },
    {
     "datasetId": 5909730,
     "sourceId": 9670812,
     "sourceType": "datasetVersion"
    },
    {
     "datasetId": 5890350,
     "sourceId": 9663439,
     "sourceType": "datasetVersion"
    }
   ],
   "dockerImageVersionId": 30787,
   "isGpuEnabled": true,
   "isInternetEnabled": true,
   "language": "python",
   "sourceType": "notebook"
  },
  "kernelspec": {
   "display_name": "Python 3",
   "language": "python",
   "name": "python3"
  },
  "language_info": {
   "codemirror_mode": {
    "name": "ipython",
    "version": 3
   },
   "file_extension": ".py",
   "mimetype": "text/x-python",
   "name": "python",
   "nbconvert_exporter": "python",
   "pygments_lexer": "ipython3",
   "version": "3.10.14"
  },
  "papermill": {
   "default_parameters": {},
   "duration": 105.605945,
   "end_time": "2024-10-20T21:09:18.352094",
   "environment_variables": {},
   "exception": null,
   "input_path": "__notebook__.ipynb",
   "output_path": "__notebook__.ipynb",
   "parameters": {},
   "start_time": "2024-10-20T21:07:32.746149",
   "version": "2.6.0"
  }
 },
 "nbformat": 4,
 "nbformat_minor": 5
}
